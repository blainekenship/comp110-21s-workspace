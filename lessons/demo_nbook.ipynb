{
 "metadata": {
  "language_info": {
   "codemirror_mode": {
    "name": "ipython",
    "version": 3
   },
   "file_extension": ".py",
   "mimetype": "text/x-python",
   "name": "python",
   "nbconvert_exporter": "python",
   "pygments_lexer": "ipython3",
   "version": "3.9.1-final"
  },
  "orig_nbformat": 2,
  "kernelspec": {
   "name": "python3",
   "display_name": "Python 3.9.1 64-bit",
   "metadata": {
    "interpreter": {
     "hash": "9244cdca3acb4d8597e9c80e97196503b70915e734be84134bc837fb4f7548f0"
    }
   }
  }
 },
 "nbformat": 4,
 "nbformat_minor": 2,
 "cells": [
  {
   "source": [
    "# My First (Second) Notebook\n",
    "This cell will render as rich-formatted text when it's evaluated. To make a cell markdown, click the M down arrow button :)\n",
    "## Subheadings and other formats\n",
    "\n",
    "##This is called markdown\n",
    "*Bulleted lists\n",
    "* **bolded text\n",
    "* [Links to web pages](https://google.com)"
   ],
   "cell_type": "markdown",
   "metadata": {}
  },
  {
   "cell_type": "code",
   "execution_count": 2,
   "metadata": {},
   "outputs": [
    {
     "output_type": "stream",
     "name": "stdout",
     "text": [
      "Hello, Kris\n"
     ]
    }
   ],
   "source": [
    "name: str = \"Kris\"\n",
    "print(f\"Hello, {name}\")"
   ]
  },
  {
   "source": [
    "## Keyboard shortcuts to know\n",
    "\n",
    "`Control + Enter` - Evaluates the current cell and keeps the focus in the current cell\n",
    "\n",
    "`Shift + Enter` - Evaluates the current cell and moves focus to the next cell"
   ],
   "cell_type": "markdown",
   "metadata": {}
  },
  {
   "source": [
    "# The last expression of a cell is printed by default"
   ],
   "cell_type": "markdown",
   "metadata": {}
  },
  {
   "cell_type": "code",
   "execution_count": null,
   "metadata": {},
   "outputs": [],
   "source": []
  }
 ]
}